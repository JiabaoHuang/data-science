{
 "cells": [
  {
   "cell_type": "markdown",
   "metadata": {},
   "source": [
    "# 岭回归和Lasso回归预测糖尿病发生\n",
    "## 岭回归"
   ]
  },
  {
   "cell_type": "code",
   "execution_count": 1,
   "metadata": {},
   "outputs": [],
   "source": [
    "# 导入包\n",
    "import pandas as pd\n",
    "import numpy as np\n",
    "import matplotlib.pyplot as plt\n",
    "from sklearn import model_selection\n",
    "from sklearn.linear_model import Ridge,RidgeCV"
   ]
  },
  {
   "cell_type": "code",
   "execution_count": 2,
   "metadata": {
    "scrolled": true
   },
   "outputs": [
    {
     "data": {
      "text/html": [
       "<div>\n",
       "<style scoped>\n",
       "    .dataframe tbody tr th:only-of-type {\n",
       "        vertical-align: middle;\n",
       "    }\n",
       "\n",
       "    .dataframe tbody tr th {\n",
       "        vertical-align: top;\n",
       "    }\n",
       "\n",
       "    .dataframe thead th {\n",
       "        text-align: right;\n",
       "    }\n",
       "</style>\n",
       "<table border=\"1\" class=\"dataframe\">\n",
       "  <thead>\n",
       "    <tr style=\"text-align: right;\">\n",
       "      <th></th>\n",
       "      <th>AGE</th>\n",
       "      <th>SEX</th>\n",
       "      <th>BMI</th>\n",
       "      <th>BP</th>\n",
       "      <th>S1</th>\n",
       "      <th>S2</th>\n",
       "      <th>S3</th>\n",
       "      <th>S4</th>\n",
       "      <th>S5</th>\n",
       "      <th>S6</th>\n",
       "      <th>Y</th>\n",
       "    </tr>\n",
       "  </thead>\n",
       "  <tbody>\n",
       "    <tr>\n",
       "      <th>0</th>\n",
       "      <td>59</td>\n",
       "      <td>2</td>\n",
       "      <td>32.1</td>\n",
       "      <td>101.0</td>\n",
       "      <td>157</td>\n",
       "      <td>93.2</td>\n",
       "      <td>38.0</td>\n",
       "      <td>4.0</td>\n",
       "      <td>4.8598</td>\n",
       "      <td>87</td>\n",
       "      <td>151</td>\n",
       "    </tr>\n",
       "    <tr>\n",
       "      <th>1</th>\n",
       "      <td>48</td>\n",
       "      <td>1</td>\n",
       "      <td>21.6</td>\n",
       "      <td>87.0</td>\n",
       "      <td>183</td>\n",
       "      <td>103.2</td>\n",
       "      <td>70.0</td>\n",
       "      <td>3.0</td>\n",
       "      <td>3.8918</td>\n",
       "      <td>69</td>\n",
       "      <td>75</td>\n",
       "    </tr>\n",
       "    <tr>\n",
       "      <th>2</th>\n",
       "      <td>72</td>\n",
       "      <td>2</td>\n",
       "      <td>30.5</td>\n",
       "      <td>93.0</td>\n",
       "      <td>156</td>\n",
       "      <td>93.6</td>\n",
       "      <td>41.0</td>\n",
       "      <td>4.0</td>\n",
       "      <td>4.6728</td>\n",
       "      <td>85</td>\n",
       "      <td>141</td>\n",
       "    </tr>\n",
       "    <tr>\n",
       "      <th>3</th>\n",
       "      <td>24</td>\n",
       "      <td>1</td>\n",
       "      <td>25.3</td>\n",
       "      <td>84.0</td>\n",
       "      <td>198</td>\n",
       "      <td>131.4</td>\n",
       "      <td>40.0</td>\n",
       "      <td>5.0</td>\n",
       "      <td>4.8903</td>\n",
       "      <td>89</td>\n",
       "      <td>206</td>\n",
       "    </tr>\n",
       "    <tr>\n",
       "      <th>4</th>\n",
       "      <td>50</td>\n",
       "      <td>1</td>\n",
       "      <td>23.0</td>\n",
       "      <td>101.0</td>\n",
       "      <td>192</td>\n",
       "      <td>125.4</td>\n",
       "      <td>52.0</td>\n",
       "      <td>4.0</td>\n",
       "      <td>4.2905</td>\n",
       "      <td>80</td>\n",
       "      <td>135</td>\n",
       "    </tr>\n",
       "  </tbody>\n",
       "</table>\n",
       "</div>"
      ],
      "text/plain": [
       "   AGE  SEX   BMI     BP   S1     S2    S3   S4      S5  S6    Y\n",
       "0   59    2  32.1  101.0  157   93.2  38.0  4.0  4.8598  87  151\n",
       "1   48    1  21.6   87.0  183  103.2  70.0  3.0  3.8918  69   75\n",
       "2   72    2  30.5   93.0  156   93.6  41.0  4.0  4.6728  85  141\n",
       "3   24    1  25.3   84.0  198  131.4  40.0  5.0  4.8903  89  206\n",
       "4   50    1  23.0  101.0  192  125.4  52.0  4.0  4.2905  80  135"
      ]
     },
     "execution_count": 2,
     "metadata": {},
     "output_type": "execute_result"
    }
   ],
   "source": [
    "# 读取数据\n",
    "diabetes = pd.read_excel(r'/Users/jiabaohuang/python/data/diabetes.xlsx')\n",
    "diabetes.head()"
   ]
  },
  {
   "cell_type": "code",
   "execution_count": 3,
   "metadata": {},
   "outputs": [],
   "source": [
    "# 构造自变量（剔除年龄，性别和因变量）\n",
    "predictors = diabetes.columns[2:-1]\n",
    "predictors\n",
    "# 划分训练集和测试集\n",
    "x_train,x_test,y_train,y_test = model_selection.train_test_split(diabetes[predictors], diabetes['Y'], \n",
    "                                                                 test_size = 0.2, random_state = 1234)"
   ]
  },
  {
   "cell_type": "code",
   "execution_count": 4,
   "metadata": {},
   "outputs": [
    {
     "data": {
      "text/plain": [
       "0.014649713983072863"
      ]
     },
     "execution_count": 4,
     "metadata": {},
     "output_type": "execute_result"
    }
   ],
   "source": [
    "# 构造Lambda值\n",
    "Lambdas = np.logspace(-5,2,200)\n",
    "\n",
    "# 岭回归的交叉验证\n",
    "# 设置交叉验证的参数，对每个Lambda值都执行10重交叉验证\n",
    "ridge_cv = RidgeCV( alphas=Lambdas, normalize=True, scoring='neg_mean_squared_error', cv=10 )\n",
    "# 模型拟合\n",
    "ridge_cv.fit(x_train,y_train)\n",
    "# 返回最优解\n",
    "ridge_best_Lambda = ridge_cv.alpha_\n",
    "ridge_best_Lambda"
   ]
  },
  {
   "cell_type": "code",
   "execution_count": 5,
   "metadata": {},
   "outputs": [
    {
     "data": {
      "text/plain": [
       "53.11911788753519"
      ]
     },
     "execution_count": 5,
     "metadata": {},
     "output_type": "execute_result"
    }
   ],
   "source": [
    "# 导入包\n",
    "from sklearn.metrics import mean_squared_error\n",
    "# 基于最佳Lambda建模\n",
    "ridge = Ridge(alpha=ridge_best_Lambda, normalize=True)\n",
    "ridge.fit(x_train,y_train)\n",
    "# 返回岭回归系数\n",
    "pd.Series( index = ['Intercept'] + x_train.columns.tolist(), data = [ridge.intercept_] +ridge.coef_.tolist())\n",
    "# 预测\n",
    "ridge_predict = ridge.predict(x_test)\n",
    "# 预测效果验证\n",
    "RMSE = np.sqrt(mean_squared_error(y_test,ridge_predict))\n",
    "RMSE"
   ]
  },
  {
   "cell_type": "markdown",
   "metadata": {},
   "source": [
    "## Lasso回归"
   ]
  },
  {
   "cell_type": "code",
   "execution_count": 6,
   "metadata": {},
   "outputs": [
    {
     "data": {
      "text/plain": [
       "0.06294988990221888"
      ]
     },
     "execution_count": 6,
     "metadata": {},
     "output_type": "execute_result"
    }
   ],
   "source": [
    "# 导入第三方模块函数\n",
    "from sklearn.linear_model import Lasso, LassoCV\n",
    "# Lasso回归交叉验证\n",
    "lasso_cv = LassoCV(alphas=Lambdas, normalize=True, cv=10, max_iter=10000 )\n",
    "lasso_cv.fit(x_train,y_train)\n",
    "# 输出最佳Lambda值\n",
    "lasso_best_Lambda = lasso_cv.alpha_\n",
    "lasso_best_Lambda"
   ]
  },
  {
   "cell_type": "code",
   "execution_count": 7,
   "metadata": {},
   "outputs": [
    {
     "data": {
      "text/plain": [
       "53.061437258225745"
      ]
     },
     "execution_count": 7,
     "metadata": {},
     "output_type": "execute_result"
    }
   ],
   "source": [
    "# 基于最佳Lambda值建模\n",
    "lasso = Lasso( alpha=lasso_best_Lambda, normalize=True, max_iter=10000 )\n",
    "lasso.fit(x_train,y_train)\n",
    "# 返回Lasso回归最佳系数\n",
    "pd.Series( index = ['Intercept'] + x_train.columns.to_list(), data = [lasso.intercept_] + lasso.coef_.tolist())\n",
    "# 预测\n",
    "lasso_predict = lasso.predict(x_test)\n",
    "# 预测效果验证\n",
    "RMSE1 = np.sqrt(mean_squared_error(y_test,lasso_predict))\n",
    "RMSE1"
   ]
  },
  {
   "cell_type": "markdown",
   "metadata": {},
   "source": [
    "## 线性回归预测(多元)"
   ]
  },
  {
   "cell_type": "code",
   "execution_count": 8,
   "metadata": {},
   "outputs": [
    {
     "data": {
      "text/plain": [
       "53.42623939722987"
      ]
     },
     "execution_count": 8,
     "metadata": {},
     "output_type": "execute_result"
    }
   ],
   "source": [
    "from statsmodels import api as sms\n",
    "\n",
    "# 为自变量x添加常数列1，用于拟合截距项\n",
    "x_train2 = sms.add_constant(x_train)\n",
    "x_test2 = sms.add_constant(x_test)\n",
    "\n",
    "# 构建多元线性回归模型\n",
    "linear = sms.OLS(y_train,x_train2).fit()\n",
    "# 返回线性回归模型的系数\n",
    "linear.params\n",
    "\n",
    "# 模型的预测\n",
    "linear_predict = linear.predict(x_test2)\n",
    "# 预测误差\n",
    "RMSE2 = np.sqrt(mean_squared_error(y_test,linear_predict))\n",
    "RMSE2"
   ]
  }
 ],
 "metadata": {
  "kernelspec": {
   "display_name": "Python 3",
   "language": "python",
   "name": "python3"
  },
  "language_info": {
   "codemirror_mode": {
    "name": "ipython",
    "version": 3
   },
   "file_extension": ".py",
   "mimetype": "text/x-python",
   "name": "python",
   "nbconvert_exporter": "python",
   "pygments_lexer": "ipython3",
   "version": "3.8.5"
  }
 },
 "nbformat": 4,
 "nbformat_minor": 4
}
