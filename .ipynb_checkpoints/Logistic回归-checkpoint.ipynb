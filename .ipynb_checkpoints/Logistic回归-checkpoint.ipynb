{
 "cells": [
  {
   "cell_type": "markdown",
   "metadata": {},
   "source": [
    "# 函数说明\n",
    "LogisticRegression(tol=0.0001, fit_intercept=True,class_weight=None, max_iter=100)  \n",
    "tol:用于指定模型跌倒收敛的阈值   \n",
    "fit_intercept:bool类型参数，是否拟合模型的截距项，默认为True   \n",
    "class_weight:用于指定因变量类别的权重，如果为字典，则通过字典的形式{class_label:weight}传递每个类别的权重;如果为字符串'balanced'，则每个分类的权重与实际样本中的比例成反比，当各分类存在严重不平衡时，设置为'balanced'会比较好;如果为None，则表示每个分类的权重相等    max_iter:指定模型求解过程中的最大迭代次数， 默认为100 "
   ]
  },
  {
   "cell_type": "code",
   "execution_count": 1,
   "metadata": {},
   "outputs": [],
   "source": [
    "import matplotlib.pyplot as plt\n",
    "# 自定义绘制KS曲线函数\n",
    "def plot_ks(y_test, y_score, positive_flag):\n",
    "    #对y_test重新设置索引\n",
    "    y_test.index = np.arange(len(y_test))\n",
    "    #构建目标数据集\n",
    "    target_data = pd.DataFrame({'y_test':y_test, 'y_score':y_score})\n",
    "    #按y_score降序排列\n",
    "    target_data.sort_values(by='y_score', ascending=False, inplace=True)\n",
    "    #自定义分位点\n",
    "    cuts = np.arange(0.1,1,0.1)\n",
    "    #计算各分位点对应的score值\n",
    "    index = len(target_data.y_score)*cuts\n",
    "    scores = np.array(target_data.y_score)[index.astype('int')]\n",
    "    #根据不同的score值，计算sensitivity和specificity\n",
    "    Sensitivity = []\n",
    "    Specificity = []\n",
    "    for score in scores:\n",
    "        #正例覆盖样本数量与实际正例样本数量\n",
    "        positive_recall = target_data.loc[(target_data.y_test == positive_flag) & (target_data.y_score>score),:].shape[0]\n",
    "        positive = sum(target_data.y_test == positive_flag)\n",
    "        #负例覆盖样本与实际负例样本量\n",
    "        negative_recall = target_data.loc[(target_data.y_test != positive_flag) & (target_data.y_score<=score),:].shape[0]\n",
    "        negative = sum(target_data.y_test != positive_flag)\n",
    "        \n",
    "        Sensitivity.append(positive_recall/positive)\n",
    "        Specificity.append(negative_recall/negative)\n",
    "    #构建绘图数据\n",
    "    plot_data = pd.DataFrame({'cuts':cuts,'y1':1-np.array(Specificity),'y2':np.array(Sensitivity),\n",
    "                             'ks':np.array(Sensitivity)-(1-np.array(Specificity))})\n",
    "    #寻找Sensitivity和1-Specficity之差的最大索引值\n",
    "    max_ks_index = np.argmax(plot_data.ks)\n",
    "    plt.plot([0]+cuts.tolist()+[1], [0]+plot_data.y1.tolist()+[1], label='1-Specificity')\n",
    "    plt.plot([0]+cuts.tolist()+[1], [0]+plot_data.y2.tolist()+[1], label='Sensitivity')\n",
    "    #添加参考线\n",
    "    plt.vlines(plot_data.cuts[max_ks_index], ymin = plot_data.y1[max_ks_index],\n",
    "              ymax = plot_data.y2[max_ks_index], linestyles='--')\n",
    "    #显示图例\n",
    "    plt.legend()\n",
    "    #显示图形\n",
    "    plt.show()"
   ]
  },
  {
   "cell_type": "code",
   "execution_count": 5,
   "metadata": {
    "scrolled": true
   },
   "outputs": [
    {
     "data": {
      "image/png": "[encoded data removed]",
      "text/plain": [
       "<Figure size 432x288 with 1 Axes>"
      ]
     },
     "metadata": {
      "needs_background": "light"
     },
     "output_type": "display_data"
    }
   ],
   "source": [
    "import pandas as pd\n",
    "# 导入虚拟数据\n",
    "virtua_data = pd.read_excel(r'/Users/jiabaohuang/python/data/virtual_data.xlsx')\n",
    "# 应用自定义函数绘制k-s曲线\n",
    "plot_ks(y_test=virtua_data.Class, y_score=virtua_data.Score, positive_flag='P')"
   ]
  },
  {
   "cell_type": "code",
   "execution_count": 4,
   "metadata": {},
   "outputs": [
    {
     "name": "stdout",
     "output_type": "stream",
     "text": [
      "[4.36637441] [[ 0.48695898  6.87517973 -2.44872468 -0.01385936 -0.16085022  0.13389695]]\n"
     ]
    }
   ],
   "source": [
    "# 导入第三方模块\n",
    "from sklearn import model_selection\n",
    "import numpy as np\n",
    "from sklearn import linear_model\n",
    "# 读取数据\n",
    "sports = pd.read_csv(r'/Users/jiabaohuang/python/data/Run or Walk.csv')\n",
    "# 提取所有自变量名称\n",
    "predictors = sports.columns[4:]\n",
    "# 构建自变量矩阵\n",
    "# X = sports.ix[:, predictors]   #pandas版本更新，只适用于0.20.0之前\n",
    "X = sports.iloc[:, 4:]\n",
    "# 提取y变量值\n",
    "y = sports.activity\n",
    "# 拆分训练集测试集\n",
    "X_train, X_test, y_train, y_test = model_selection.train_test_split(X, y, test_size = 0.25, random_state=1234 )\n",
    "# 利用训练集建模\n",
    "sklearn_logistic = linear_model.LogisticRegression() \n",
    "sklearn_logistic.fit(X_train, y_train)\n",
    "# 返回模型的各个参数\n",
    "print(sklearn_logistic.intercept_, sklearn_logistic.coef_)"
   ]
  },
  {
   "cell_type": "code",
   "execution_count": 6,
   "metadata": {},
   "outputs": [
    {
     "data": {
      "text/plain": [
       "0    12119\n",
       "1    10028\n",
       "dtype: int64"
      ]
     },
     "execution_count": 6,
     "metadata": {},
     "output_type": "execute_result"
    }
   ],
   "source": [
    "# 模型预测\n",
    "sklearn_predict = sklearn_logistic.predict(X_test)\n",
    "# 预测结果统计\n",
    "pd.Series(sklearn_predict).value_counts()"
   ]
  },
  {
   "cell_type": "code",
   "execution_count": 7,
   "metadata": {},
   "outputs": [
    {
     "data": {
      "text/plain": [
       "array([[9969, 1122],\n",
       "       [2150, 8906]])"
      ]
     },
     "execution_count": 7,
     "metadata": {},
     "output_type": "execute_result"
    }
   ],
   "source": [
    "# 导入包\n",
    "from sklearn import metrics\n",
    "# 混淆矩阵\n",
    "cm = metrics.confusion_matrix(y_test, sklearn_predict, labels = [0,1])\n",
    "cm"
   ]
  },
  {
   "cell_type": "code",
   "execution_count": 8,
   "metadata": {
    "scrolled": true
   },
   "outputs": [
    {
     "name": "stdout",
     "output_type": "stream",
     "text": [
      "模型准确率:85.23% \n",
      " 正例覆盖率:80.55% \n",
      " 负例覆盖率:89.88%\n"
     ]
    }
   ],
   "source": [
    "Accuracy = metrics.accuracy_score(y_test, sklearn_predict)\n",
    "Sensitivity = metrics.recall_score(y_test, sklearn_predict)\n",
    "Specificity = metrics.recall_score(y_test, sklearn_predict, pos_label=0)\n",
    "print('模型准确率:%.2f%%'%(Accuracy*100), '\\n',\n",
    "     '正例覆盖率:%.2f%%'%(Sensitivity*100), '\\n',\n",
    "     '负例覆盖率:%.2f%%'%(Specificity*100))"
   ]
  },
  {
   "cell_type": "code",
   "execution_count": 9,
   "metadata": {},
   "outputs": [
    {
     "name": "stdout",
     "output_type": "stream",
     "text": [
      "Using matplotlib backend: MacOSX\n"
     ]
    }
   ],
   "source": [
    "# 混淆矩阵可视化\n",
    "# 导入包\n",
    "import seaborn as sns\n",
    "import matplotlib.pyplot as plt\n",
    "%matplotlib\n",
    "# 绘制热力图\n",
    "sns.heatmap(cm, annot=True, fmt='.2e', cmap='GnBu')\n",
    "plt.show()"
   ]
  },
  {
   "cell_type": "code",
   "execution_count": 12,
   "metadata": {},
   "outputs": [],
   "source": [
    "# y得分为模型预测正例的概率\n",
    "y_score = sklearn_logistic.predict_proba(X_test)[:,1]  \n",
    "# 计算不同阈值之下，fpr和tpr的组合（fpr：1-Specificity，tpr：Sensitivity）\n",
    "fpr, tpr, threshold = metrics.roc_curve(y_test, y_score)\n",
    "# 计算AUC\n",
    "roc_AUC = metrics.auc(fpr, tpr)\n",
    "# 绘制面积图\n",
    "plt.stackplot(fpr, tpr, colors='crimson', alpha=0.5, edgecolor='black')\n",
    "# 添加边际线\n",
    "plt.plot(fpr, tpr, color='black', lw=1)\n",
    "# 添加对角线\n",
    "plt.plot([0,1], [0,1], color='black', linestyle='--')\n",
    "# 添加文本信息\n",
    "plt.text(0.5, 0.3, 'ROC curve (area=%.2f)' %roc_AUC)\n",
    "# 添加xy轴标签\n",
    "plt.xlabel('1-Specificity')\n",
    "plt.ylabel('Sensitivity')\n",
    "\n",
    "plt.show()"
   ]
  },
  {
   "cell_type": "code",
   "execution_count": 13,
   "metadata": {},
   "outputs": [],
   "source": [
    "# 绘制KS曲线\n",
    "plot_ks(y_test=y_test, y_score=y_score, positive_flag=1)"
   ]
  },
  {
   "cell_type": "markdown",
   "metadata": {},
   "source": [
    "# statsmodels包计算"
   ]
  },
  {
   "cell_type": "code",
   "execution_count": 17,
   "metadata": {},
   "outputs": [
    {
     "name": "stdout",
     "output_type": "stream",
     "text": [
      "Optimization terminated successfully.\n",
      "         Current function value: 0.324875\n",
      "         Iterations 8\n"
     ]
    },
    {
     "data": {
      "text/plain": [
       "const             4.388537\n",
       "acceleration_x    0.489617\n",
       "acceleration_y    6.906590\n",
       "acceleration_z   -2.459638\n",
       "gyro_x           -0.014715\n",
       "gyro_y           -0.161164\n",
       "gyro_z            0.134655\n",
       "dtype: float64"
      ]
     },
     "execution_count": 17,
     "metadata": {},
     "output_type": "execute_result"
    }
   ],
   "source": [
    "# -----建模-----\n",
    "import statsmodels.api as sm\n",
    "# 拆分训练集和测试集\n",
    "x_train, x_test, y_train, y_test = model_selection.train_test_split(X, y, test_size=0.25, random_state=1234)\n",
    "# 为X的训练集和测试集添加常数列1\n",
    "x_test2 = sm.add_constant(x_test)\n",
    "x_train2 = sm.add_constant(x_train)\n",
    "# 拟合logistic模型\n",
    "sm_logistic = sm.Logit(y_train,x_train2).fit()\n",
    "# 返回模型参数\n",
    "sm_logistic.params"
   ]
  },
  {
   "cell_type": "code",
   "execution_count": 18,
   "metadata": {},
   "outputs": [
    {
     "data": {
      "text/plain": [
       "array([[9967, 1124],\n",
       "       [2149, 8907]])"
      ]
     },
     "execution_count": 18,
     "metadata": {},
     "output_type": "execute_result"
    }
   ],
   "source": [
    "# -------预测并生成混淆矩阵-------\n",
    "# 在测试集上预测\n",
    "sm_y_prob = sm_logistic.predict(x_test2)\n",
    "# 根据概率值，观测进行分类，以0.5为阀值\n",
    "sm_pred_y = np.where(sm_y_prob >= .5, 1, 0)\n",
    "# 混淆矩阵\n",
    "cm2 = metrics.confusion_matrix(y_test, sm_pred_y, labels=[0,1])\n",
    "cm2"
   ]
  },
  {
   "cell_type": "code",
   "execution_count": 19,
   "metadata": {},
   "outputs": [],
   "source": [
    "# -------绘制ROC曲线-------\n",
    "# 计算fpr和tpr\n",
    "fpr2, tpr2, threshold2 = metrics.roc_curve(y_test, sm_y_prob)\n",
    "# 计算AUC\n",
    "roc_AUC2 = metrics.auc(fpr, tpr)\n",
    "# 绘制面积图\n",
    "plt.stackplot(fpr, tpr, color='steelblue', alpha=1, edgecolor='black')\n",
    "# 添加边际线\n",
    "plt.plot(fpr, tpr, color='black', lw=0.5)\n",
    "# 添加对角线\n",
    "plt.plot([0,1],[0,1], color='crimson', linestyle='--')\n",
    "# 添加文本信息\n",
    "plt.text(.5, .3, 'ROC curve (area = %.2f)' % roc_AUC2)\n",
    "# 添加xy轴标签\n",
    "plt.xlabel('1-Specificity')\n",
    "plt.ylabel('Sensitivity')\n",
    "\n",
    "plt.show()"
   ]
  },
  {
   "cell_type": "code",
   "execution_count": 20,
   "metadata": {},
   "outputs": [],
   "source": [
    "# --------绘制K-S曲线-----------\n",
    "# 调用自定义函数\n",
    "sm_y_prob.index = np.arange(len(sm_y_prob))\n",
    "plot_ks(y_test=y_test, y_score=sm_y_prob, positive_flag=1)"
   ]
  }
 ],
 "metadata": {
  "kernelspec": {
   "display_name": "Python 3",
   "language": "python",
   "name": "python3"
  },
  "language_info": {
   "codemirror_mode": {
    "name": "ipython",
    "version": 3
   },
   "file_extension": ".py",
   "mimetype": "text/x-python",
   "name": "python",
   "nbconvert_exporter": "python",
   "pygments_lexer": "ipython3",
   "version": "3.8.5"
  }
 },
 "nbformat": 4,
 "nbformat_minor": 4
}
