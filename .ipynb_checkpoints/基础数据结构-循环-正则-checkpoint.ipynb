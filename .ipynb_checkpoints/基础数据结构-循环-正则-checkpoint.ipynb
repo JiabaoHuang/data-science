{
 "cells": [
  {
   "cell_type": "code",
   "execution_count": null,
   "metadata": {},
   "outputs": [],
   "source": [
    "print(name == name1)"
   ]
  },
  {
   "cell_type": "code",
   "execution_count": 2,
   "metadata": {},
   "outputs": [],
   "source": [
    "name = 'admin'"
   ]
  },
  {
   "cell_type": "code",
   "execution_count": 3,
   "metadata": {},
   "outputs": [
    {
     "name": "stdout",
     "output_type": "stream",
     "text": [
      "2261812523888 admin\n",
      "2261812523888 admin\n",
      "2261812523888 admin\n"
     ]
    }
   ],
   "source": [
    "name1 = name\n",
    "name2 = name\n",
    "print(id(name),name)\n",
    "print(id(name1),name1)\n",
    "print(id(name2),name2)"
   ]
  },
  {
   "cell_type": "code",
   "execution_count": 5,
   "metadata": {},
   "outputs": [
    {
     "name": "stdout",
     "output_type": "stream",
     "text": [
      "2261811134704 admin1\n",
      "2261812523888 admin\n"
     ]
    }
   ],
   "source": [
    "name = 'admin1'\n",
    "print(id(name),name)\n",
    "print(id(name1),name1)"
   ]
  },
  {
   "cell_type": "markdown",
   "metadata": {},
   "source": [
    "# 基础数据结构"
   ]
  },
  {
   "cell_type": "code",
   "execution_count": 4,
   "metadata": {},
   "outputs": [
    {
     "name": "stdout",
     "output_type": "stream",
     "text": [
      "[1, 10, 100, 1000, 10000, 2]\n",
      "[1, 10, 100, 1000, 10000, 2, 2, 4, 6, 7]\n"
     ]
    }
   ],
   "source": [
    "l1 = [1,3.14,False]\n",
    "list1 = []\n",
    "list3 = [1,10,100,1000,10000]\n",
    "# 在列表末尾添加数字2\n",
    "list3.append(2)\n",
    "print(list3)\n",
    "\n",
    "# 在列表末尾添加4个值\n",
    "list3.extend([2,4,6,7])\n",
    "print(list3)"
   ]
  },
  {
   "cell_type": "code",
   "execution_count": 7,
   "metadata": {},
   "outputs": [
    {
     "name": "stdout",
     "output_type": "stream",
     "text": [
      "(1, 3.14, False, 'HUAWEI', '2019-05-04', [8, 4, 7, 1])\n",
      "(1,)\n"
     ]
    }
   ],
   "source": [
    "# 元组的构造 \n",
    "t1 = (1,3.14,False,'HUAWEI','2019-05-04',[8,4,7,1])\n",
    "t2 = (1,) #如果元组只有一个元素 元素末尾需要加一个 ‘，’\n",
    "print(t1)\n",
    "print(t2)\n",
    "\n",
    "# 元组元素不可变，相比列表更加安全 "
   ]
  },
  {
   "cell_type": "code",
   "execution_count": 9,
   "metadata": {},
   "outputs": [
    {
     "name": "stdout",
     "output_type": "stream",
     "text": [
      "{'name': 'Abel', 'age': 33, 'sex': 'male'}\n",
      "{'name': 'Abel', 'age': 25, 'sex': 'male', 'height': 181}\n"
     ]
    }
   ],
   "source": [
    "#字典的构造\n",
    "# { key1:values,key2:values}\n",
    "# 键不能重复 唯一性，值可重复且可取多个值\n",
    "# 字典不再是序列 无法使用切片和索引方法\n",
    "# 字典是可变对象\n",
    "dict1 = {'name':'Abel','age':33,'sex':'male'}\n",
    "print(dict1)\n",
    "dict1['height'] = 181\n",
    "dict1['age'] = 25\n",
    "print(dict1)"
   ]
  },
  {
   "cell_type": "markdown",
   "metadata": {},
   "source": [
    "# 控制流语句的使用"
   ]
  },
  {
   "cell_type": "markdown",
   "metadata": {},
   "source": [
    "## if语句"
   ]
  },
  {
   "cell_type": "code",
   "execution_count": 12,
   "metadata": {},
   "outputs": [
    {
     "data": {
      "text/plain": [
       "'\\nif condition1:\\n    expression\\nelif:\\n    expression2\\nelif:\\n    expression3\\nelse:\\n    expression4\\n'"
      ]
     },
     "execution_count": 12,
     "metadata": {},
     "output_type": "execute_result"
    }
   ],
   "source": [
    "# 1\n",
    "''' if 语句\n",
    "if condition:\n",
    "    expression\n",
    "if condition:\n",
    "    expression1\n",
    "if condition:\n",
    "    expression2\n",
    "'''\n",
    "# 2\n",
    "'''\n",
    "if condition1:\n",
    "    expression1\n",
    "else:\n",
    "    expression2\n",
    "'''\n",
    "# 3\n",
    "'''\n",
    "if condition1:\n",
    "    expression\n",
    "elif:\n",
    "    expression2\n",
    "elif:\n",
    "    expression3\n",
    "else:\n",
    "    expression4\n",
    "'''"
   ]
  },
  {
   "cell_type": "code",
   "execution_count": 14,
   "metadata": {},
   "outputs": [
    {
     "name": "stdout",
     "output_type": "stream",
     "text": [
      "请输入一个整数：87\n",
      "与7相关\n"
     ]
    }
   ],
   "source": [
    "# 1、输入一个整数，检查该数是否与7有关（被7整除或者含有7）\n",
    "num = input('请输入一个整数：')\n",
    "if int(num) % 7 == 0 or num.find('7') != -1:\n",
    "    print('与7相关')\n",
    "else:\n",
    "    print('与7不相关')"
   ]
  },
  {
   "cell_type": "code",
   "execution_count": 15,
   "metadata": {},
   "outputs": [
    {
     "name": "stdout",
     "output_type": "stream",
     "text": [
      "请输入身份证号码：199509081630130631\n",
      "08163013\n"
     ]
    }
   ],
   "source": [
    "# 2、输入一个身份证号码，提取出生日期\n",
    "ID = input('请输入身份证号码：')\n",
    "if len(ID) == 18:\n",
    "    birthday = ID[6:14]\n",
    "elif len(ID) == 15:\n",
    "    birthday = ID[6:12]\n",
    "else:\n",
    "    print('身份证号码错误，请重新输入')\n",
    "print(birthday)"
   ]
  },
  {
   "cell_type": "code",
   "execution_count": 17,
   "metadata": {},
   "outputs": [
    {
     "name": "stdout",
     "output_type": "stream",
     "text": [
      "请输入身份证号码：130631199509081630\n",
      "Male\n"
     ]
    }
   ],
   "source": [
    "# 3、输入一个身份证号码，判断性别\n",
    "ID = input('请输入身份证号码：')\n",
    "if len(ID) == 18:\n",
    "    if int(ID[-2]) % 2 == 0:\n",
    "        print('Female')\n",
    "    else:\n",
    "        print('Male')\n",
    "elif len(ID) == 15:\n",
    "    if ID[-1] % 2 == 0:\n",
    "        print('Female')\n",
    "    else:\n",
    "        print('Male')\n",
    "else:\n",
    "    print('身份证号码错误，请重新输入')"
   ]
  },
  {
   "cell_type": "markdown",
   "metadata": {},
   "source": [
    "## for 循环"
   ]
  },
  {
   "cell_type": "code",
   "execution_count": 18,
   "metadata": {},
   "outputs": [
    {
     "name": "stdout",
     "output_type": "stream",
     "text": [
      "[2, 26, 5, 65, 101, 170, 290, 17, 37]\n"
     ]
    }
   ],
   "source": [
    "list4 = [1,5,2,8,10,13,17,4,6]\n",
    "result = []\n",
    "for i in list4:\n",
    "    y = i ** 2 + 1\n",
    "    result.append(y)\n",
    "print(result)"
   ]
  },
  {
   "cell_type": "code",
   "execution_count": 21,
   "metadata": {},
   "outputs": [
    {
     "name": "stdout",
     "output_type": "stream",
     "text": [
      "1到100之间的偶数和=2550\n",
      "1到100之间的偶数和=2550\n"
     ]
    }
   ],
   "source": [
    "# 计算1到100之间的偶数和\n",
    "num = 0\n",
    "for i in range(1,101):\n",
    "    if i % 2 == 0:\n",
    "        num += i\n",
    "#     else:\n",
    "#         pass\n",
    "print('1到100之间的偶数和={}'.format(num))\n",
    "print('1到100之间的偶数和=%d'%(num))"
   ]
  },
  {
   "cell_type": "code",
   "execution_count": 5,
   "metadata": {},
   "outputs": [
    {
     "data": {
      "text/plain": [
       "['zero', 'one', 'three', 'five', 'seven', 'eight', 'nine', 'ten']"
      ]
     },
     "execution_count": 5,
     "metadata": {},
     "output_type": "execute_result"
    }
   ],
   "source": [
    "# 列表推导式\n",
    "# 1、输出0-10 英文中含有e的单词\n",
    "ls1 = ['zero', 'one', 'two', 'three', 'four', 'five', 'six', 'seven', 'eight', 'nine', 'ten']\n",
    "res = []\n",
    "for i in ls1:\n",
    "    if 'e' in i:\n",
    "        res.append(i)\n",
    "res"
   ]
  },
  {
   "cell_type": "code",
   "execution_count": 2,
   "metadata": {},
   "outputs": [
    {
     "name": "stdout",
     "output_type": "stream",
     "text": [
      "[95, 524, 251, 116, 191, 319, 436, 620, 284, 479, 356]\n"
     ]
    }
   ],
   "source": [
    "# 2 将列表中元素做平方减5的操作，生成一个新列表\n",
    "ls2 =[10,23,16,11,14,18,21,25,17,22,19]\n",
    "res=[]\n",
    "for i in ls2:\n",
    "    res.append(i ** 2 - 5)\n",
    "print(res)"
   ]
  },
  {
   "cell_type": "code",
   "execution_count": 4,
   "metadata": {},
   "outputs": [
    {
     "data": {
      "text/plain": [
       "[95, 524, 251, 116, 191, 319, 436, 620, 284, 479, 356]"
      ]
     },
     "execution_count": 4,
     "metadata": {},
     "output_type": "execute_result"
    }
   ],
   "source": [
    "res = [i ** 2 - 5 for i in ls2 ]\n",
    "res"
   ]
  },
  {
   "cell_type": "code",
   "execution_count": 9,
   "metadata": {},
   "outputs": [
    {
     "data": {
      "text/plain": [
       "{'C': 4, 'A': 4, 'B': 2}"
      ]
     },
     "execution_count": 9,
     "metadata": {},
     "output_type": "execute_result"
    }
   ],
   "source": [
    "# 3 统计列表中各元素的频次，并以字典形式存储\n",
    "ls3 = ['A','C','A','C','B','C','A','A','B','C']\n",
    "res = {}\n",
    "for i in set(ls3):\n",
    "    res[i] = ls3.count(i)\n",
    "res"
   ]
  },
  {
   "cell_type": "code",
   "execution_count": 10,
   "metadata": {},
   "outputs": [
    {
     "name": "stdout",
     "output_type": "stream",
     "text": [
      "{'C', 'A', 'B'}\n"
     ]
    }
   ],
   "source": [
    "# set 排重\n",
    "print(set(ls3))"
   ]
  },
  {
   "cell_type": "markdown",
   "metadata": {},
   "source": [
    "## while循环"
   ]
  },
  {
   "cell_type": "code",
   "execution_count": 4,
   "metadata": {},
   "outputs": [
    {
     "data": {
      "text/plain": [
       "23"
      ]
     },
     "execution_count": 4,
     "metadata": {},
     "output_type": "execute_result"
    }
   ],
   "source": [
    "# 1  计算等差数列3n+5的前多少项和不超过1000\n",
    "s = 0\n",
    "n = 0\n",
    "while s <= 1000:\n",
    "    n += 1\n",
    "    s += 3 * n +5\n",
    "\n",
    "n-1"
   ]
  },
  {
   "cell_type": "code",
   "execution_count": 6,
   "metadata": {},
   "outputs": [],
   "source": [
    "# 2  猜数字游戏，给定整数范围，知道猜中为止\n"
   ]
  },
  {
   "cell_type": "markdown",
   "metadata": {},
   "source": [
    "## 正则表达式RE库"
   ]
  },
  {
   "cell_type": "code",
   "execution_count": 8,
   "metadata": {},
   "outputs": [],
   "source": [
    "# 1、findall(pattern, string, flags=0) 查\n",
    "# 2、sub(pattern, repl, string, count=0, flags=0) 替\n",
    "# 3、split(pattern, string, maxsplit=0, flags=0) 分割"
   ]
  },
  {
   "cell_type": "code",
   "execution_count": 11,
   "metadata": {},
   "outputs": [
    {
     "name": "stdout",
     "output_type": "stream",
     "text": [
      "['Python', 'Python']\n",
      "['1.5L', '1.5T', '1.0T', '1.3T']\n",
      "['1.5L', '1.5T', '1.0T', '1.3T']\n"
     ]
    }
   ],
   "source": [
    "import re\n",
    "\n",
    "s1 = '通过几天Python的学习，感觉Python很简单！'\n",
    "print(re.findall('Python', s1))\n",
    "\n",
    "s2 = '此次新朗逸主要搭载了1.5L和1.5T两种动力总成的发动机，别克英朗则搭载了1.0T和1.3T的动力总成'\n",
    "print(re.findall('1...',s2))\n",
    "print(re.findall('1\\...',s2))  # \\反斜杠代表转义符\n"
   ]
  },
  {
   "cell_type": "markdown",
   "metadata": {},
   "source": [
    "## 正则符号"
   ]
  },
  {
   "cell_type": "markdown",
   "metadata": {},
   "source": [
    "### 英文状态下   .\n",
    "指代任意一个字符"
   ]
  },
  {
   "cell_type": "markdown",
   "metadata": {},
   "source": [
    "### \\ 转义符 \n",
    "\\n : 指代换行 <p>\n",
    "\\t : Tab制表符<p>\n",
    "\\d : 指代0-9之间任意数的一个字符 '.' 也同样代表1个字符<p> \n",
    "\\s : 任意一张空白，空格、tab、换行等<p>\n",
    "\\w : 字母、数字、汉字和下划线中的任意一种<p>\n",
    "\\\\. : 指代句号点本身"
   ]
  },
  {
   "cell_type": "markdown",
   "metadata": {},
   "source": [
    "### 中括号[]"
   ]
  },
  {
   "cell_type": "code",
   "execution_count": 8,
   "metadata": {},
   "outputs": [
    {
     "name": "stdout",
     "output_type": "stream",
     "text": [
      "['13171728529']\n",
      "['13171728529']\n"
     ]
    }
   ],
   "source": [
    "# 中括号[] \n",
    "# 取出手机号信息\n",
    "import re\n",
    "s4 = '用户联系方式：13171728529，用户编号：1104050608'\n",
    "print(re.findall('1[356789].........',s4))\n",
    "print(re.findall('1[356789]\\d\\d\\d\\d\\d\\\\d\\d\\d\\d',s4))"
   ]
  },
  {
   "cell_type": "code",
   "execution_count": 10,
   "metadata": {},
   "outputs": [
    {
     "name": "stdout",
     "output_type": "stream",
     "text": [
      "['1.5L', '1.5T', '1.0T', '1.3T']\n"
     ]
    }
   ],
   "source": [
    "s5 = '此次新朗逸主要搭载了1.5L和1.5T两种动力总成的发动机，别克英朗则搭载了1.0T和1.3T的动力总成'\n",
    "print(re.findall('1.\\d[a-zA-Z]',s5))"
   ]
  },
  {
   "cell_type": "markdown",
   "metadata": {},
   "source": [
    "### 圆括号()"
   ]
  },
  {
   "cell_type": "code",
   "execution_count": 13,
   "metadata": {},
   "outputs": [
    {
     "name": "stdout",
     "output_type": "stream",
     "text": [
      "['6,', '37']\n"
     ]
    }
   ],
   "source": [
    "# 圆括号() 指定内容的提取\n",
    "# 提取年龄值\n",
    "s6 = 'id:1, name:Tom, age:6, gender: 1, id:2, name:Sia, age:37, gender:0'\n",
    "print(re.findall('age:(..)',s6))"
   ]
  },
  {
   "cell_type": "markdown",
   "metadata": {},
   "source": [
    "### 英文状态的问号 ?"
   ]
  },
  {
   "cell_type": "code",
   "execution_count": 17,
   "metadata": {},
   "outputs": [
    {
     "data": {
      "text/plain": [
       "['http://www.51zxw.net/;https://www.baidu.com/']"
      ]
     },
     "execution_count": 17,
     "metadata": {},
     "output_type": "execute_result"
    }
   ],
   "source": [
    "# 表示匹配前一个字符0次或者1次\n",
    "\n",
    "s7 = 'http://www.51zxw.net/'\n",
    "s8 = 'https://www.baidu.com/'\n",
    "\n",
    "re.findall('https?://www\\..+',s7+';'+s8)"
   ]
  },
  {
   "cell_type": "markdown",
   "metadata": {},
   "source": [
    "### 加号+"
   ]
  },
  {
   "cell_type": "code",
   "execution_count": 21,
   "metadata": {},
   "outputs": [
    {
     "data": {
      "text/plain": [
       "['huangjiabao1031@163.com', '1844908418@qq.com']"
      ]
     },
     "execution_count": 21,
     "metadata": {},
     "output_type": "execute_result"
    }
   ],
   "source": [
    "# 表示匹配前一个字符1次或以上\n",
    "\n",
    "s9 = 'huangjiabao1031@163.com, 1844908418@qq.com'\n",
    "re.findall('[0-9a-zA-Z_\\-]+@[a-z0-9A-Z]+\\.com',s9)"
   ]
  },
  {
   "cell_type": "markdown",
   "metadata": {},
   "source": [
    "### 星号 *"
   ]
  },
  {
   "cell_type": "code",
   "execution_count": 26,
   "metadata": {},
   "outputs": [
    {
     "data": {
      "text/plain": [
       "['亨氏奶粉', '奶粉勺', '多功能奶瓶', '幼儿奶粉量筒']"
      ]
     },
     "execution_count": 26,
     "metadata": {},
     "output_type": "execute_result"
    }
   ],
   "source": [
    "# 表示匹配前一个字符0次或以上\n",
    "\n",
    "s10 = ['婴儿袜', '亨氏奶粉','奶粉勺', '多功能奶瓶', '幼儿奶粉量筒', '磨牙棒']\n",
    "res = []\n",
    "for i in s10:\n",
    "    res.extend(re.findall('.*奶.*', i)) #append会产生空值\n",
    "res"
   ]
  },
  {
   "cell_type": "markdown",
   "metadata": {},
   "source": [
    "### 英文状态大括号{}"
   ]
  },
  {
   "cell_type": "code",
   "execution_count": 27,
   "metadata": {},
   "outputs": [],
   "source": [
    "# 表示匹配前一个字符特定的次数或范围\n",
    "\n",
    "# 匹配手机号码\n",
    "pattern = '1[356789]\\d{9}'\n",
    "\n",
    "# 匹配至少长度为6的密码\n",
    "pattern1 = '\\w{6,}'\n",
    "\n",
    "# 匹配区号信息\n",
    "pattern2 = '0\\d{2,3}'\n"
   ]
  },
  {
   "cell_type": "code",
   "execution_count": 30,
   "metadata": {},
   "outputs": [
    {
     "name": "stdout",
     "output_type": "stream",
     "text": [
      "['晴', '阴~小雨\\n', '小雨~中雨', '中雨~\\n小雨']\n",
      "['晴', '小雨~中雨']\n"
     ]
    }
   ],
   "source": [
    "# 提取天气信息\n",
    "import re\n",
    "\n",
    "s11 = \"\"\"{ymd:'2018-01-01',tianqi:'晴',aqiInfo:'轻度污染'},{ymd:'2018-01-02',tianqi:'阴~小雨\n",
    "',aqiInfo:'优'},{ymd:'2018-01-03',tianqi:'小雨~中雨',aqiInfo:'优'},{ymd:'2018-01-04',tianqi:'中雨~\n",
    "小雨',aqiInfo:'优'}\"\"\"\n",
    "\n",
    "# res = re.compile(\"tianqi:'(.*?)'\",re.DOTALL) #re.DOTALL 表示 . 可以匹配包括换行符在内的任意字符。\n",
    "res = re.compile(\"tianqi:'(.*?\\n*?.*?)'\") #与上式同理\n",
    "\n",
    "print(res.findall(s11))\n",
    "print(re.findall(\"tianqi:'(.*?)'\",s11)) #因为有换行符所以漏掉2个\n"
   ]
  },
  {
   "cell_type": "code",
   "execution_count": 31,
   "metadata": {},
   "outputs": [
    {
     "data": {
      "text/plain": [
       "['Together', 'discovered', 'only', 'to', 'competition', 'celebration', 'of']"
      ]
     },
     "execution_count": 31,
     "metadata": {},
     "output_type": "execute_result"
    }
   ],
   "source": [
    "# 取出所有含O字母的单词\n",
    "string2 = \"\"\"Together, we discovered that a free market only thrives when there are rules to\n",
    "ensure competition and fair play, Our celebration of initiative and enterprise\"\"\"\n",
    "\n",
    "re.findall('\\w*o\\w*',string2)"
   ]
  },
  {
   "cell_type": "code",
   "execution_count": 36,
   "metadata": {},
   "outputs": [
    {
     "data": {
      "text/plain": [
       "'据悉这次发运的台蒸汽冷凝罐属于国际热核聚变实验堆项目的核二级压力设备先后完成了压力试验真空试验氦气检漏试验千斤顶试验吊耳载荷试验叠装试验等验收试验'"
      ]
     },
     "execution_count": 36,
     "metadata": {},
     "output_type": "execute_result"
    }
   ],
   "source": [
    "# 将标点符号、数字和字母删除\n",
    "string3 = \"\"\"据悉，这次发运的4台蒸汽冷凝罐属于国际热核聚变实验堆（ITER）项目的核二级压力设\n",
    "备，先后完成了压力试验、真空试验、氦气检漏试验、千斤顶试验、吊耳载荷试验、叠装试验等验收\n",
    "试验。\"\"\"\n",
    "\n",
    "re.sub('[\\da-zA-Z,\\.。，?!()（）、\\n]',\"\",string3)"
   ]
  },
  {
   "cell_type": "code",
   "execution_count": 44,
   "metadata": {},
   "outputs": [
    {
     "name": "stdout",
     "output_type": "stream",
     "text": [
      "['2室2厅 ', ' 101.62平 ', ' 低区/7层 ', ' 朝南 ', ' 上海未来 ', ' 浦东 ', ' 金杨 ', ' 2005年建']\n",
      "['2室2厅', '101.62平', '低区/7层', '朝南', '上海未来', '浦东', '金杨', '2005年建']\n"
     ]
    }
   ],
   "source": [
    "# 将每一部分的内容分割开\n",
    "string4 = '2室2厅 | 101.62平 | 低区/7层 | 朝南 \\n 上海未来 - 浦东 - 金杨 - 2005年建'\n",
    "res0 = re.split('[\\|\\n-]',string4)\n",
    "print(res0)\n",
    "\n",
    "res1 = [i.strip() for i in res0]\n",
    "print(res1)"
   ]
  },
  {
   "cell_type": "code",
   "execution_count": null,
   "metadata": {},
   "outputs": [],
   "source": []
  }
 ],
 "metadata": {
  "kernelspec": {
   "display_name": "Python 3",
   "language": "python",
   "name": "python3"
  },
  "language_info": {
   "codemirror_mode": {
    "name": "ipython",
    "version": 3
   },
   "file_extension": ".py",
   "mimetype": "text/x-python",
   "name": "python",
   "nbconvert_exporter": "python",
   "pygments_lexer": "ipython3",
   "version": "3.7.6"
  }
 },
 "nbformat": 4,
 "nbformat_minor": 4
}
