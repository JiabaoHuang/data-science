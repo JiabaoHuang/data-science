{
 "cells": [
  {
   "cell_type": "markdown",
   "metadata": {},
   "source": [
    "# 匿名函数"
   ]
  },
  {
   "cell_type": "markdown",
   "metadata": {},
   "source": [
    "匿名函数，可以用lambda关键字定义。通过lambda构造的函数可以没有名称，最大特点\n",
    "是“一气呵成”，即在自定义匿名函数时，所有代码可在一行内完成。"
   ]
  },
  {
   "cell_type": "markdown",
   "metadata": {},
   "source": [
    "## 定义\n",
    "lambda parameters : function_expression<p>\n",
    "lambda为匿名函数的关键起始词<p>\n",
    "parameters是函数的形参，多个参数之间用英文状态的逗号隔开<p>\n",
    "function_expression为具体的函数体<p>"
   ]
  },
  {
   "cell_type": "code",
   "execution_count": 3,
   "metadata": {},
   "outputs": [
    {
     "data": {
      "text/plain": [
       "{'A': 4, 'B': 5, 'C': 3, 'D': 1}"
      ]
     },
     "execution_count": 3,
     "metadata": {},
     "output_type": "execute_result"
    }
   ],
   "source": [
    "# 统计列表中每个元素的频次\n",
    "list6 = ['A','A','B','A','A','B','C','B','C','B','B','D','C']\n",
    "\n",
    "dic = {}\n",
    "\n",
    "for i in list6:\n",
    "    dic[i] = list6.count(i)\n",
    "dic"
   ]
  },
  {
   "cell_type": "code",
   "execution_count": 8,
   "metadata": {},
   "outputs": [
    {
     "data": {
      "text/plain": [
       "[('B', 5), ('A', 4), ('C', 3), ('D', 1)]"
      ]
     },
     "execution_count": 8,
     "metadata": {},
     "output_type": "execute_result"
    }
   ],
   "source": [
    "list7 = list(dic.items())\n",
    "list7.sort(key= lambda x : x[1], reverse = True) #借助匿名函数实现列表按频次排列\n",
    "list7"
   ]
  },
  {
   "cell_type": "markdown",
   "metadata": {},
   "source": [
    "## 使用场景\n",
    "虽然匿名函数很灵活，会在很多代码中遇到，但它的最大特点也是它的短板，即无法通过\n",
    "lambda函数构造一个多行而复杂的函数。为了弥补其缺陷，Python提供了另一个关键字\n",
    "def，可以构造逻辑复杂的自定义函数。"
   ]
  },
  {
   "cell_type": "markdown",
   "metadata": {},
   "source": [
    "# 自定义函数"
   ]
  },
  {
   "cell_type": "markdown",
   "metadata": {},
   "source": [
    "## 定义\n",
    "def function_name(parameters):<p>\n",
    "function_expression<p>\n",
    "return(result)<p>\n",
    "def是define单词的缩写，为自定义函数的关键词<p>\n",
    "function_name为自定义的函数名称<p>\n",
    "parameters为自定义函数的形参，需要放在圆括号内<p>\n",
    "function_expression为具体的函数体<p>\n",
    "return用于返回函数的计算结果<p>"
   ]
  },
  {
   "cell_type": "code",
   "execution_count": 14,
   "metadata": {},
   "outputs": [
    {
     "name": "stdout",
     "output_type": "stream",
     "text": [
      "请在0到100之间猜一个数字: 55\n",
      "不好意思，你猜的数偏大了！请在0到55之间猜一个数！\n",
      "请在0到55之间猜一个数字: 35\n",
      "不好意思，你猜的数偏大了！请在0到35之间猜一个数！\n",
      "请在0到35之间猜一个数字: 17\n",
      "不好意思，你猜的数偏小了！请在17到35之间猜一个数！\n",
      "请在17到35之间猜一个数字: 25\n",
      "不好意思，你猜的数偏小了！请在25到35之间猜一个数！\n",
      "请在25到35之间猜一个数字: 30\n",
      "不好意思，你猜的数偏小了！请在30到35之间猜一个数！\n",
      "请在30到35之间猜一个数字: 33\n",
      "不好意思，你猜的数偏大了！请在30到33之间猜一个数！\n",
      "请在30到33之间猜一个数字: 32\n",
      "恭喜你猜对了！\n",
      "游戏结束\n"
     ]
    }
   ],
   "source": [
    "# 猜数字\n",
    "def game(min,max):\n",
    "    import random\n",
    "    number = random.randint(min, max) # 随机生成一个需要猜的数字\n",
    "    while True:\n",
    "        guess = int(input('请在%d到%d之间猜一个数字: ' %(min, max)))\n",
    "        # if分支判断下一轮应在什么范围内猜数字\n",
    "        if guess < number:\n",
    "            min = guess\n",
    "            print('不好意思，你猜的数偏小了！请在%d到%d之间猜一个数！'%(min,max))\n",
    "        elif guess > number:\n",
    "            max = guess\n",
    "            print('不好意思，你猜的数偏大了！请在%d到%d之间猜一个数！'%(min,max))\n",
    "        else:\n",
    "            print('恭喜你猜对了！'+'\\n'+'游戏结束')\n",
    "            break # 如果猜对，通过berak关键词退出整个循环体\n",
    "\n",
    "game(0,100)"
   ]
  },
  {
   "cell_type": "markdown",
   "metadata": {},
   "source": [
    "<!-- 1）构造自定义函数，基于半径计算圆的周长、面积和球的体积 -->"
   ]
  },
  {
   "cell_type": "code",
   "execution_count": 18,
   "metadata": {},
   "outputs": [
    {
     "data": {
      "text/plain": [
       "(18.84955592153876, 28.274333882308138, 84.82300164692441)"
      ]
     },
     "execution_count": 18,
     "metadata": {},
     "output_type": "execute_result"
    }
   ],
   "source": [
    "# 1）构造自定义函数，基于半径计算圆的周长、面积和球的体积\n",
    "def cal(r):\n",
    "    import math\n",
    "    c = 2*math.pi*r\n",
    "    s = math.pi*r**2\n",
    "    v = math.pi*r**3\n",
    "    return c,s,v\n",
    "cal(3)"
   ]
  },
  {
   "cell_type": "code",
   "execution_count": 22,
   "metadata": {},
   "outputs": [
    {
     "data": {
      "text/html": [
       "<div>\n",
       "<style scoped>\n",
       "    .dataframe tbody tr th:only-of-type {\n",
       "        vertical-align: middle;\n",
       "    }\n",
       "\n",
       "    .dataframe tbody tr th {\n",
       "        vertical-align: top;\n",
       "    }\n",
       "\n",
       "    .dataframe thead th {\n",
       "        text-align: right;\n",
       "    }\n",
       "</style>\n",
       "<table border=\"1\" class=\"dataframe\">\n",
       "  <thead>\n",
       "    <tr style=\"text-align: right;\">\n",
       "      <th></th>\n",
       "      <th>id</th>\n",
       "      <th>name</th>\n",
       "      <th>income</th>\n",
       "    </tr>\n",
       "  </thead>\n",
       "  <tbody>\n",
       "    <tr>\n",
       "      <th>0</th>\n",
       "      <td>1</td>\n",
       "      <td>Tom</td>\n",
       "      <td>20000</td>\n",
       "    </tr>\n",
       "    <tr>\n",
       "      <th>1</th>\n",
       "      <td>2</td>\n",
       "      <td>Sia</td>\n",
       "      <td>30000</td>\n",
       "    </tr>\n",
       "    <tr>\n",
       "      <th>2</th>\n",
       "      <td>3</td>\n",
       "      <td>Abel</td>\n",
       "      <td>3000</td>\n",
       "    </tr>\n",
       "    <tr>\n",
       "      <th>0</th>\n",
       "      <td>4</td>\n",
       "      <td>Mark</td>\n",
       "      <td>42522</td>\n",
       "    </tr>\n",
       "    <tr>\n",
       "      <th>1</th>\n",
       "      <td>5</td>\n",
       "      <td>Matt</td>\n",
       "      <td>23421</td>\n",
       "    </tr>\n",
       "    <tr>\n",
       "      <th>0</th>\n",
       "      <td>7</td>\n",
       "      <td>Bob</td>\n",
       "      <td>3242</td>\n",
       "    </tr>\n",
       "  </tbody>\n",
       "</table>\n",
       "</div>"
      ],
      "text/plain": [
       "   id  name  income\n",
       "0   1   Tom   20000\n",
       "1   2   Sia   30000\n",
       "2   3  Abel    3000\n",
       "0   4  Mark   42522\n",
       "1   5  Matt   23421\n",
       "0   7   Bob    3242"
      ]
     },
     "execution_count": 22,
     "metadata": {},
     "output_type": "execute_result"
    }
   ],
   "source": [
    "# 构造自定义函数，用于多数据源的读取与合并\n",
    "def combine(path):\n",
    "    import pandas as pd\n",
    "    import os\n",
    "\n",
    "    filename = os.listdir(path)\n",
    "    \n",
    "    res = []\n",
    "    for i in filename:\n",
    "        res.append(pd.read_csv(path+'\\\\'+i))\n",
    "    res1 = pd.concat(res)\n",
    "    return res1\n",
    "    \n",
    "    \n",
    "path = r'E:\\Jupyter\\Python 基础\\data'\n",
    "combine(path)"
   ]
  },
  {
   "cell_type": "code",
   "execution_count": null,
   "metadata": {},
   "outputs": [],
   "source": []
  }
 ],
 "metadata": {
  "kernelspec": {
   "display_name": "Python 3",
   "language": "python",
   "name": "python3"
  },
  "language_info": {
   "codemirror_mode": {
    "name": "ipython",
    "version": 3
   },
   "file_extension": ".py",
   "mimetype": "text/x-python",
   "name": "python",
   "nbconvert_exporter": "python",
   "pygments_lexer": "ipython3",
   "version": "3.7.6"
  }
 },
 "nbformat": 4,
 "nbformat_minor": 4
}
