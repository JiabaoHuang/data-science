{
 "cells": [
  {
   "cell_type": "markdown",
   "metadata": {},
   "source": [
    "# 一维数组"
   ]
  },
  {
   "cell_type": "code",
   "execution_count": 6,
   "metadata": {},
   "outputs": [],
   "source": [
    "import numpy as np\n",
    "import random \n",
    "\n",
    "# height = [181,187,190,175,160]\n",
    "# weight = [60,75,75,76,49]\n",
    "\n",
    "# BMI=weight/(height/100)**2\n",
    "height = []\n",
    "weight = []\n",
    "for i in range (10000000):\n",
    "    height.append(random.randint(153,190))\n",
    "    weight.append(random.uniform(45,90))"
   ]
  },
  {
   "cell_type": "code",
   "execution_count": 7,
   "metadata": {},
   "outputs": [
    {
     "name": "stdout",
     "output_type": "stream",
     "text": [
      "CPU times: user 879 ms, sys: 178 ms, total: 1.06 s\n",
      "Wall time: 1.06 s\n"
     ]
    }
   ],
   "source": [
    "%%time\n",
    "H = np.array(height)\n",
    "W = np.array(weight)\n",
    "BMI = W/(H/100)**2"
   ]
  },
  {
   "cell_type": "code",
   "execution_count": 12,
   "metadata": {
    "scrolled": true
   },
   "outputs": [
    {
     "name": "stdout",
     "output_type": "stream",
     "text": [
      "CPU times: user 2.18 s, sys: 98.9 ms, total: 2.28 s\n",
      "Wall time: 2.28 s\n"
     ]
    }
   ],
   "source": [
    "%%time\n",
    "BMI = []\n",
    "for i in range(10000000) :\n",
    "    BMI.append(weight[i]/(height[i]/100)**2)"
   ]
  },
  {
   "cell_type": "markdown",
   "metadata": {},
   "source": [
    "# 二维数组"
   ]
  },
  {
   "cell_type": "code",
   "execution_count": 14,
   "metadata": {},
   "outputs": [
    {
     "data": {
      "text/plain": [
       "array([[14,  2, 34,  5],\n",
       "       [12, 34, 25, 67],\n",
       "       [12, 46, 78, 43]])"
      ]
     },
     "execution_count": 14,
     "metadata": {},
     "output_type": "execute_result"
    }
   ],
   "source": [
    "# 基于嵌套列表创建数组\n",
    "age1 = np.array([[14,2,34,5],[12,34,25,67],[12,46,78,43]])\n",
    "age1"
   ]
  },
  {
   "cell_type": "code",
   "execution_count": 15,
   "metadata": {},
   "outputs": [
    {
     "data": {
      "text/plain": [
       "array([[14,  2, 34,  5],\n",
       "       [12, 34, 25, 67],\n",
       "       [12, 46, 78, 43]])"
      ]
     },
     "execution_count": 15,
     "metadata": {},
     "output_type": "execute_result"
    }
   ],
   "source": [
    "# 基于元组创建数组\n",
    "age2 = np.array(((14,2,34,5),(12,34,25,67),(12,46,78,43)))\n",
    "age2"
   ]
  },
  {
   "cell_type": "code",
   "execution_count": 18,
   "metadata": {},
   "outputs": [
    {
     "name": "stdout",
     "output_type": "stream",
     "text": [
      "45 [23 45 24  1 34]\n",
      "[23 45 24 34]\n"
     ]
    }
   ],
   "source": [
    "# 数组的切片\n",
    "a = np.array([23,45,24,1,34,13,15,16])\n",
    "\n",
    "print(a[1],a[:-3])\n",
    "\n",
    "# 逻辑索引切片\n",
    "print(a[a>18])"
   ]
  },
  {
   "cell_type": "code",
   "execution_count": 19,
   "metadata": {},
   "outputs": [
    {
     "name": "stdout",
     "output_type": "stream",
     "text": [
      "43\n",
      "[34 25 78]\n"
     ]
    }
   ],
   "source": [
    "# 二维数组的切片\n",
    "print(age2[2,3])\n",
    "print(age1[:,2])"
   ]
  },
  {
   "cell_type": "markdown",
   "metadata": {},
   "source": [
    "数组的运算\n",
    "算数运算符 ： \\+ - * / % \\/\\/ ** ——数组对应元素的运算 <p>\n",
    "逻辑运算符 ：\n",
    ">\\> greater  <p>\n",
    "\\>= greater_equal <p>\n",
    "\\< less <p> \n",
    "\\<= less_equal <p>\n",
    "== equal <p>\n",
    "!= not_equal <p>\n",
    "两个数组形状相同才可以比较 <p>\n",
    "    \n",
    "常用的数学函数 ：\n",
    ">np.round(arr) 对各元素四舍五入<p>\n",
    "np.sqrt(arr) 计算各元素的算术平方根<p>\n",
    "np.square(arr) 计算各元素的平方<p>\n",
    "np.exp(arr) 计算以e为底的各元素的指数<p>\n",
    "np.power(arr,d) 计算各元素以d为底的指数<p>\n",
    "np.log2(arr)  以2为底的各元素的对数<p>\n",
    "np.log10(arr)  以10为底的各元素的对数<p>\n",
    "np.log(arr)  以e为底的各元素的对数<p>\n",
    "    \n",
    "常用的统计函数：\n",
    ">np.min(arr,axis)计算轴方向的最小值<p>\n",
    "    np.max(arr,axis)计算轴方向的最大值<p>\n",
    "        np.mean(arr,axis)计算轴方向的平均值<p>\n",
    "            np.median(arr,axis)计算轴方向的中值<p>\n",
    "                np.sum(arr,axis)计算轴方向的和<p>\n",
    "                    np.std(arr,axis)计算轴方向的标准差<p>\n",
    "                        np.var(arr,axis)计算轴方向的方差<p>\n",
    "                            axis = 0时，计算数组各列的统计值\n",
    "                            axis = 1时，计算数组各行的统计值\n",
    "                            \n",
    "                            \n",
    "      \n",
    "    "
   ]
  },
  {
   "cell_type": "code",
   "execution_count": 20,
   "metadata": {},
   "outputs": [
    {
     "data": {
      "text/plain": [
       "array([ 38,  82, 137, 115])"
      ]
     },
     "execution_count": 20,
     "metadata": {},
     "output_type": "execute_result"
    }
   ],
   "source": [
    "np.sum(age2,axis=0)"
   ]
  },
  {
   "cell_type": "code",
   "execution_count": 21,
   "metadata": {},
   "outputs": [
    {
     "data": {
      "text/plain": [
       "array([ 55, 138, 179])"
      ]
     },
     "execution_count": 21,
     "metadata": {},
     "output_type": "execute_result"
    }
   ],
   "source": [
    "np.sum(age2,axis=1)"
   ]
  },
  {
   "cell_type": "code",
   "execution_count": null,
   "metadata": {},
   "outputs": [],
   "source": [
    "# 几个典型的随机数生成函数\n",
    "\n",
    "# 随机整数\n",
    "np.random.randint()\n",
    "\n",
    "# 随机均匀分布\n",
    "np.random.randuniform()\n",
    "\n",
    "# 随机正太分布\n",
    "np.random.normal()"
   ]
  },
  {
   "cell_type": "code",
   "execution_count": null,
   "metadata": {},
   "outputs": [],
   "source": []
  }
 ],
 "metadata": {
  "kernelspec": {
   "display_name": "Python 3",
   "language": "python",
   "name": "python3"
  },
  "language_info": {
   "codemirror_mode": {
    "name": "ipython",
    "version": 3
   },
   "file_extension": ".py",
   "mimetype": "text/x-python",
   "name": "python",
   "nbconvert_exporter": "python",
   "pygments_lexer": "ipython3",
   "version": "3.8.5"
  }
 },
 "nbformat": 4,
 "nbformat_minor": 4
}
